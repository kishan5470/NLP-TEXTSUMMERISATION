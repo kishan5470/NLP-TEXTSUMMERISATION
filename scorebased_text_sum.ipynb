{
 "cells": [
  {
   "cell_type": "code",
   "execution_count": 4,
   "id": "0e45a776-be91-4e6d-8566-6ee5c0a7a213",
   "metadata": {},
   "outputs": [],
   "source": [
    "import re\n",
    "import heapq\n",
    "from bs4 import BeautifulSoup\n",
    "import urllib.request\n",
    "from stop_words import get_stop_words"
   ]
  },
  {
   "cell_type": "code",
   "execution_count": 5,
   "id": "7d76d32e-d788-4975-be7c-4d29f4259599",
   "metadata": {},
   "outputs": [],
   "source": [
    "stop_words = get_stop_words('en')"
   ]
  },
  {
   "cell_type": "code",
   "execution_count": 6,
   "id": "45deb0eb-5c62-45c4-98e8-382408f6ca48",
   "metadata": {},
   "outputs": [],
   "source": [
    "def get_article_text(url, tag='p'):\n",
    "    try:\n",
    "        scraped_data = urllib.request.urlopen(url)\n",
    "        article = scraped_data.read()\n",
    "        parsed_article = BeautifulSoup(article, 'lxml')\n",
    "        paragraphs = parsed_article.find_all(tag)\n",
    "        article_text = \" \".join([p.text for p in paragraphs])\n",
    "        return article_text\n",
    "    except Exception as e:\n",
    "        print(f\"Error fetching or parsing the article: {e}\")\n",
    "        return None"
   ]
  },
  {
   "cell_type": "code",
   "execution_count": 7,
   "id": "ffeeb599-d9e9-4c6f-89fc-866b65cd1093",
   "metadata": {},
   "outputs": [],
   "source": [
    "def clean_text(text):\n",
    "    text = re.sub(r'[[0-9]*]', ' ', text)\n",
    "    text = re.sub(r'\\s+', ' ', text)\n",
    "    text = re.sub('[^a-zA-Z]', ' ', text)\n",
    "    return text.lower()"
   ]
  },
  {
   "cell_type": "code",
   "execution_count": 8,
   "id": "33640fe5-e26f-4069-844e-5497d1369ff3",
   "metadata": {},
   "outputs": [],
   "source": [
    "def calculate_word_frequencies(text):\n",
    "    word_frequencies = {}\n",
    "    \n",
    "    for word in text.split():\n",
    "        if word not in stop_words:\n",
    "            word_frequencies[word] = word_frequencies.get(word, 0) + 1\n",
    "    \n",
    "    max_frequency = max(word_frequencies.values())\n",
    "    \n",
    "    for word in word_frequencies:\n",
    "        word_frequencies[word] /= max_frequency\n",
    "    \n",
    "    return word_frequencies"
   ]
  },
  {
   "cell_type": "code",
   "execution_count": 9,
   "id": "a9bf8131-0c8f-4f24-8895-21c6acae4700",
   "metadata": {},
   "outputs": [],
   "source": [
    "def generate_summary(sentences, sentence_scores, num_sentences):\n",
    "    summary_sentences = heapq.nlargest(num_sentences, sentence_scores, key=sentence_scores.get)\n",
    "    summary = ' '.join(summary_sentences)\n",
    "    return summary"
   ]
  },
  {
   "cell_type": "code",
   "execution_count": 10,
   "id": "c1ef04ff-2012-4285-8589-d2bb6f2ed616",
   "metadata": {},
   "outputs": [],
   "source": [
    "def print_comparison(original_text, summary):\n",
    "    print(\"\\nOriginal Text:\\n\", original_text[:1000])  # Print the first 500 characters for brevity\n",
    "    print(\"\\nSummary:\\n\", summary)\n"
   ]
  },
  {
   "cell_type": "code",
   "execution_count": 11,
   "id": "70cbe3bb-3f7c-44ce-8c6a-e7ec9e51993c",
   "metadata": {},
   "outputs": [],
   "source": [
    "def main():\n",
    "    url = 'https://en.wikipedia.org/wiki/Reinforcement_learning'\n",
    "    tag = 'p'  # Customize the HTML tag for content extraction\n",
    "    article_text = get_article_text(url, tag)\n",
    "    \n",
    "    if article_text:\n",
    "        article_text = clean_text(article_text)\n",
    "\n",
    "        sentence_list = article_text.split()\n",
    "\n",
    "        word_frequencies = calculate_word_frequencies(article_text)\n",
    "\n",
    "        sentence_scores = {}\n",
    "        for i, sent in enumerate(sentence_list):\n",
    "            if len(sent.split(' ')) < 30:\n",
    "                sentence_scores[sent] = sentence_scores.get(sent, 0) + word_frequencies.get(sent, 0)\n",
    "\n",
    "        num_sentences_in_summary = 7  # Customize the length of the summary\n",
    "        summary = generate_summary(sentence_list, sentence_scores, num_sentences_in_summary)\n",
    "\n",
    "        # Print the original and summarized text for comparison\n",
    "        print_comparison(article_text, summary)"
   ]
  },
  {
   "cell_type": "code",
   "execution_count": 12,
   "id": "4674b387-d714-4819-8ba4-0df0f7c776eb",
   "metadata": {},
   "outputs": [
    {
     "name": "stdout",
     "output_type": "stream",
     "text": [
      "\n",
      "Original Text:\n",
      " reinforcement learning  rl  is an interdisciplinary area of machine learning and optimal control concerned with how an intelligent agent ought to take actions in a dynamic environment in order to maximize the cumulative reward  reinforcement learning is one of three basic machine learning paradigms  alongside supervised learning and unsupervised learning  reinforcement learning differs from supervised learning in not needing labelled input output pairs to be presented  and in not needing sub optimal actions to be explicitly corrected  instead the focus is on finding a balance between exploration  of uncharted territory  and exploitation  of current knowledge   the environment is typically stated in the form of a markov decision process  mdp   because many reinforcement learning algorithms for this context use dynamic programming techniques  the main difference between the classical dynamic programming methods and reinforcement learning algorithms is that the latter do not assume knowle\n",
      "\n",
      "Summary:\n",
      " displaystyle s learning policy state methods action\n"
     ]
    },
    {
     "name": "stderr",
     "output_type": "stream",
     "text": [
      "C:\\Users\\Kisha\\AppData\\Local\\Temp\\ipykernel_10652\\2240526181.py:2: FutureWarning: Possible nested set at position 1\n",
      "  text = re.sub(r'[[0-9]*]', ' ', text)\n"
     ]
    }
   ],
   "source": [
    "if __name__ == \"__main__\":\n",
    "    main()"
   ]
  },
  {
   "cell_type": "code",
   "execution_count": null,
   "id": "43a026a0-163e-4886-a785-55571d177878",
   "metadata": {},
   "outputs": [],
   "source": []
  }
 ],
 "metadata": {
  "kernelspec": {
   "display_name": "Python 3 (ipykernel)",
   "language": "python",
   "name": "python3"
  },
  "language_info": {
   "codemirror_mode": {
    "name": "ipython",
    "version": 3
   },
   "file_extension": ".py",
   "mimetype": "text/x-python",
   "name": "python",
   "nbconvert_exporter": "python",
   "pygments_lexer": "ipython3",
   "version": "3.9.12"
  }
 },
 "nbformat": 4,
 "nbformat_minor": 5
}
